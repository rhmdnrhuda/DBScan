{
  "nbformat": 4,
  "nbformat_minor": 0,
  "metadata": {
    "colab": {
      "name": "DBScan with randomize data.ipynb",
      "provenance": [],
      "collapsed_sections": [],
      "include_colab_link": true
    },
    "kernelspec": {
      "name": "python3",
      "display_name": "Python 3"
    }
  },
  "cells": [
    {
      "cell_type": "markdown",
      "metadata": {
        "id": "view-in-github",
        "colab_type": "text"
      },
      "source": [
        "<a href=\"https://colab.research.google.com/github/rhmdnrhuda/DBScan/blob/master/DBScan_with_randomize_data.ipynb\" target=\"_parent\"><img src=\"https://colab.research.google.com/assets/colab-badge.svg\" alt=\"Open In Colab\"/></a>"
      ]
    },
    {
      "cell_type": "markdown",
      "metadata": {
        "id": "ApOrqgBUCnjd",
        "colab_type": "text"
      },
      "source": [
        "#Eksplorasi DBScan Clustering menggunakan data random"
      ]
    },
    {
      "cell_type": "code",
      "metadata": {
        "id": "8fJFHaZN--7e",
        "colab_type": "code",
        "colab": {}
      },
      "source": [
        "#import libraries\n",
        "import numpy as np\n",
        "import matplotlib.pyplot as plt\n",
        "from sklearn.datasets import make_blobs"
      ],
      "execution_count": 0,
      "outputs": []
    },
    {
      "cell_type": "code",
      "metadata": {
        "id": "DSrEjW9U_EXO",
        "colab_type": "code",
        "colab": {}
      },
      "source": [
        "# generate some random cluster data\n",
        "X, y = make_blobs(random_state=170, n_samples=600, centers = 5)\n",
        "rng = np.random.RandomState(74)"
      ],
      "execution_count": 0,
      "outputs": []
    },
    {
      "cell_type": "code",
      "metadata": {
        "id": "PhBwiJO0_HGH",
        "colab_type": "code",
        "colab": {}
      },
      "source": [
        "# transform the data to be stretched\n",
        "transformation = rng.normal(size=(2, 2))\n",
        "X = np.dot(X, transformation)"
      ],
      "execution_count": 0,
      "outputs": []
    },
    {
      "cell_type": "code",
      "metadata": {
        "id": "VQfXM8c8_Jg5",
        "colab_type": "code",
        "colab": {
          "base_uri": "https://localhost:8080/",
          "height": 278
        },
        "outputId": "73f640c6-4d5a-4d05-e9e1-1aaf77057017"
      },
      "source": [
        "# plot\n",
        "plt.scatter(X[:, 0], X[:, 1])\n",
        "plt.xlabel(\"Feature 0\")\n",
        "plt.ylabel(\"Feature 1\")\n",
        "plt.show()"
      ],
      "execution_count": 4,
      "outputs": [
        {
          "output_type": "display_data",
          "data": {
            "image/png": "[encoded data removed]",
            "text/plain": [
              "<Figure size 432x288 with 1 Axes>"
            ]
          },
          "metadata": {
            "tags": []
          }
        }
      ]
    },
    {
      "cell_type": "code",
      "metadata": {
        "id": "AKyMookk_LGi",
        "colab_type": "code",
        "colab": {}
      },
      "source": [
        "#Import Library DBScan\n",
        "from sklearn.cluster import DBSCAN\n",
        "from sklearn.preprocessing import StandardScaler"
      ],
      "execution_count": 0,
      "outputs": []
    },
    {
      "cell_type": "code",
      "metadata": {
        "id": "pXhLPjxD_XDp",
        "colab_type": "code",
        "colab": {}
      },
      "source": [
        "#Fitting\n",
        "scaler = StandardScaler()\n",
        "X_scaled = scaler.fit_transform(X)"
      ],
      "execution_count": 0,
      "outputs": []
    },
    {
      "cell_type": "code",
      "metadata": {
        "id": "rWldCje6_YXw",
        "colab_type": "code",
        "colab": {}
      },
      "source": [
        "# cluster the data into five clusters\n",
        "dbscan = DBSCAN(eps=0.123, min_samples = 2)\n",
        "clusters = dbscan.fit_predict(X_scaled)"
      ],
      "execution_count": 0,
      "outputs": []
    },
    {
      "cell_type": "code",
      "metadata": {
        "id": "4I1W30iK_agB",
        "colab_type": "code",
        "colab": {
          "base_uri": "https://localhost:8080/",
          "height": 296
        },
        "outputId": "f612d3d4-dc83-4c4d-997d-d68d9caf5ebf"
      },
      "source": [
        "# plot the cluster assignments\n",
        "plt.scatter(X[:, 0], X[:, 1], c=clusters, cmap=\"plasma\")\n",
        "plt.xlabel(\"Feature 0\")\n",
        "plt.ylabel(\"Feature 1\")"
      ],
      "execution_count": 19,
      "outputs": [
        {
          "output_type": "execute_result",
          "data": {
            "text/plain": [
              "Text(0, 0.5, 'Feature 1')"
            ]
          },
          "metadata": {
            "tags": []
          },
          "execution_count": 19
        },
        {
          "output_type": "display_data",
          "data": {
            "image/png": "[encoded data removed]",
            "text/plain": [
              "<Figure size 432x288 with 1 Axes>"
            ]
          },
          "metadata": {
            "tags": []
          }
        }
      ]
    },
    {
      "cell_type": "code",
      "metadata": {
        "id": "_KBWuvLN_f0z",
        "colab_type": "code",
        "colab": {
          "base_uri": "https://localhost:8080/",
          "height": 34
        },
        "outputId": "b15d9fcd-442c-4786-d44d-71d8938e8e05"
      },
      "source": [
        "#DBSCAN performance:\n",
        "from sklearn.metrics.cluster import adjusted_rand_score\n",
        "print(\"ARI =\", adjusted_rand_score(y, clusters))"
      ],
      "execution_count": 25,
      "outputs": [
        {
          "output_type": "stream",
          "text": [
            "ARI = 0.9936844336049284\n"
          ],
          "name": "stdout"
        }
      ]
    },
    {
      "cell_type": "code",
      "metadata": {
        "id": "a6R5wILuA2UM",
        "colab_type": "code",
        "colab": {}
      },
      "source": [
        ""
      ],
      "execution_count": 0,
      "outputs": []
    }
  ]
}